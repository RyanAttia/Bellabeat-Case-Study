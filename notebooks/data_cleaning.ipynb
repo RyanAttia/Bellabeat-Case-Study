{
 "cells": [
  {
   "cell_type": "markdown",
   "id": "6ea8794c",
   "metadata": {},
   "source": [
    "# 📂 Data Cleaning Notebook\n",
    "# Author: Ryan Attia\n",
    "# Date: April 23, 2025\n",
    "# Description: Clean and prepare Fitbit data for analysis\n"
   ]
  },
  {
   "cell_type": "code",
   "execution_count": 1,
   "id": "7c12a7cd",
   "metadata": {},
   "outputs": [],
   "source": [
    "import pandas as pd"
   ]
  },
  {
   "cell_type": "markdown",
   "id": "75aace30",
   "metadata": {},
   "source": [
    "# ----------------------------\n",
    "# 🔹 Step 1: Load Raw Data\n",
    "# ----------------------------"
   ]
  },
  {
   "cell_type": "code",
   "execution_count": null,
   "id": "14c01f52",
   "metadata": {},
   "outputs": [],
   "source": [
    "activity = pd.read_csv(\"../data/raw/dailyActivity_merged.csv\")\n",
    "sleep = pd.read_csv(\"../data/raw/sleepDay_merged.csv\")\n",
    "weight = pd.read_csv(\"../data/raw/weightLogInfo_merged.csv\")"
   ]
  },
  {
   "cell_type": "markdown",
   "id": "0285d235",
   "metadata": {},
   "source": [
    "# ----------------------------\n",
    "# 🔹 Step 2: Clean Daily Activity Data\n",
    "# ----------------------------"
   ]
  },
  {
   "cell_type": "code",
   "execution_count": 3,
   "id": "9c3b8f7c",
   "metadata": {},
   "outputs": [],
   "source": [
    "# Convert date column\n",
    "activity['ActivityDate'] = pd.to_datetime(activity['ActivityDate'])\n",
    "\n",
    "# Drop duplicates\n",
    "activity.drop_duplicates(inplace=True)\n",
    "\n",
    "# Clean column names (optional)\n",
    "activity.columns = activity.columns.str.strip().str.lower().str.replace(\" \", \"_\")"
   ]
  },
  {
   "cell_type": "markdown",
   "id": "c2f0cc6a",
   "metadata": {},
   "source": [
    "# ----------------------------\n",
    "# 🔹 Step 3: Clean Sleep Data\n",
    "# ----------------------------"
   ]
  },
  {
   "cell_type": "code",
   "execution_count": 4,
   "id": "4dc35bdb",
   "metadata": {},
   "outputs": [
    {
     "name": "stderr",
     "output_type": "stream",
     "text": [
      "C:\\Users\\ryana\\AppData\\Local\\Temp\\ipykernel_50380\\3342218133.py:2: UserWarning: Could not infer format, so each element will be parsed individually, falling back to `dateutil`. To ensure parsing is consistent and as-expected, please specify a format.\n",
      "  sleep['SleepDay'] = pd.to_datetime(sleep['SleepDay'])\n"
     ]
    }
   ],
   "source": [
    "# Convert date column\n",
    "sleep['SleepDay'] = pd.to_datetime(sleep['SleepDay'])\n",
    "sleep.rename(columns={'SleepDay': 'ActivityDate'}, inplace=True)\n",
    "\n",
    "# Drop duplicates and clean column names\n",
    "sleep.drop_duplicates(inplace=True)\n",
    "sleep.columns = sleep.columns.str.strip().str.lower().str.replace(\" \", \"_\")"
   ]
  },
  {
   "cell_type": "markdown",
   "id": "17ef9cdd",
   "metadata": {},
   "source": [
    "# ----------------------------\n",
    "# 🔹 Step 4: Clean Weight Log Data\n",
    "# ----------------------------"
   ]
  },
  {
   "cell_type": "code",
   "execution_count": 5,
   "id": "b4eb13a3",
   "metadata": {},
   "outputs": [
    {
     "name": "stderr",
     "output_type": "stream",
     "text": [
      "C:\\Users\\ryana\\AppData\\Local\\Temp\\ipykernel_50380\\2030982027.py:1: UserWarning: Could not infer format, so each element will be parsed individually, falling back to `dateutil`. To ensure parsing is consistent and as-expected, please specify a format.\n",
      "  weight['Date'] = pd.to_datetime(weight['Date'])\n"
     ]
    }
   ],
   "source": [
    "weight['Date'] = pd.to_datetime(weight['Date'])\n",
    "weight.drop_duplicates(inplace=True)\n",
    "weight.columns = weight.columns.str.strip().str.lower().str.replace(\" \", \"_\")"
   ]
  },
  {
   "cell_type": "markdown",
   "id": "b538b980",
   "metadata": {},
   "source": [
    "# ----------------------------\n",
    "# 🔹 Step 5: Merge Activity + Sleep Data\n",
    "# ----------------------------\n"
   ]
  },
  {
   "cell_type": "code",
   "execution_count": 6,
   "id": "efa4f660",
   "metadata": {},
   "outputs": [],
   "source": [
    "merged_activity_sleep = pd.merge(activity, sleep, on=['id', 'activitydate'], how='inner')"
   ]
  },
  {
   "cell_type": "markdown",
   "id": "ecbbccfb",
   "metadata": {},
   "source": [
    "# ----------------------------\n",
    "# 🔹 Step 6: Save Processed Files\n",
    "# ----------------------------"
   ]
  },
  {
   "cell_type": "code",
   "execution_count": null,
   "id": "b193e401",
   "metadata": {},
   "outputs": [
    {
     "name": "stdout",
     "output_type": "stream",
     "text": [
      "✅ Data cleaned and saved to /data/processed/\n"
     ]
    }
   ],
   "source": [
    "activity.to_csv(\"../data/processed/clean_daily_activity.csv\", index=False)\n",
    "sleep.to_csv(\"../data/processed/clean_sleep_day.csv\", index=False)\n",
    "weight.to_csv(\"../data/processed/clean_weight_log.csv\", index=False)\n",
    "merged_activity_sleep.to_csv(\"../data/processed/merged_activity_sleep.csv\", index=False)\n",
    "\n",
    "print(\"✅ Data cleaned and saved to /data/processed/\")"
   ]
  }
 ],
 "metadata": {
  "kernelspec": {
   "display_name": "Python 3",
   "language": "python",
   "name": "python3"
  },
  "language_info": {
   "codemirror_mode": {
    "name": "ipython",
    "version": 3
   },
   "file_extension": ".py",
   "mimetype": "text/x-python",
   "name": "python",
   "nbconvert_exporter": "python",
   "pygments_lexer": "ipython3",
   "version": "3.10.11"
  }
 },
 "nbformat": 4,
 "nbformat_minor": 5
}
