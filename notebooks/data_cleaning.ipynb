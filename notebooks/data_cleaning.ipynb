{
 "cells": [
  {
   "cell_type": "markdown",
   "id": "6ea8794c",
   "metadata": {},
   "source": [
    "# 📂 Data Cleaning"
   ]
  },
  {
   "cell_type": "code",
   "execution_count": null,
   "id": "14c01f52",
   "metadata": {},
   "outputs": [],
   "source": [
    "## 🔍 Load and Explore Data"
   ]
  },
  {
   "cell_type": "markdown",
   "id": "0285d235",
   "metadata": {},
   "source": [
    "import pandas as pd\n",
    "\n",
    "# Example: Load dataset\n",
    "daily_activity = pd.read_csv('../data/raw/dailyActivity_merged.csv')\n",
    "daily_activity.head()"
   ]
  },
  {
   "cell_type": "code",
   "execution_count": null,
   "id": "9c3b8f7c",
   "metadata": {},
   "outputs": [],
   "source": [
    "## 🧹 Clean Data\n",
    "# Remove duplicates, handle nulls, check data types\n",
    "daily_activity.drop_duplicates(inplace=True)\n",
    "daily_activity.info()"
   ]
  }
 ],
 "metadata": {},
 "nbformat": 4,
 "nbformat_minor": 5
}